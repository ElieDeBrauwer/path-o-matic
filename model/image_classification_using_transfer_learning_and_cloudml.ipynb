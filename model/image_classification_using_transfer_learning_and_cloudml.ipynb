{
 "cells": [
  {
   "cell_type": "markdown",
   "metadata": {},
   "source": [
    "# Classifying your own images using transfer learning and Google Cloud ML Engine\n",
    "---\n",
    "## Introduction\n",
    "This notebook can be used to classify a new dataset of images using *transfer learning* based on *Google Cloud Machine Learning Engine*.\n",
    "\n",
    "It is based on the following github repo: https://github.com/amygdala/tensorflow-workshop.git\n",
    "\n",
    "The notebook is intended to be executed from inside the *__tensorflow-workshop/workshop_sections/transfer_learning/cloudml/__* directory."
   ]
  },
  {
   "cell_type": "markdown",
   "metadata": {},
   "source": [
    "## Setup"
   ]
  },
  {
   "cell_type": "code",
   "execution_count": null,
   "metadata": {
    "collapsed": true
   },
   "outputs": [],
   "source": [
    "project_name = \"hugs\"\n",
    "user_name = \"bardi\"\n",
    "model_version = \"v1\""
   ]
  },
  {
   "cell_type": "code",
   "execution_count": null,
   "metadata": {
    "collapsed": true
   },
   "outputs": [],
   "source": [
    "# Helper function for printing out streaming subprocess output\n",
    "import subprocess\n",
    "import sys\n",
    "def exec_subprocess(cmd):\n",
    "  proc = subprocess.Popen(cmd, stdout=subprocess.PIPE, stderr=subprocess.STDOUT, shell=True)\n",
    "  while proc.poll() is None:\n",
    "    line = proc.stdout.readline()\n",
    "    sys.stdout.write(line)\n",
    "  # Might still be data on stdout at this point. Grab any remainder.\n",
    "  for line in proc.stdout.read().split('\\n'):\n",
    "    sys.stdout.write(line)"
   ]
  },
  {
   "cell_type": "code",
   "execution_count": null,
   "metadata": {
    "collapsed": false
   },
   "outputs": [],
   "source": [
    "# List the hugs label definition\n",
    "!gsutil cat gs://oscon-tf-workshop-materials/transfer_learning/cloudml/hugs_photos/dict.txt"
   ]
  },
  {
   "cell_type": "code",
   "execution_count": null,
   "metadata": {
    "collapsed": false
   },
   "outputs": [],
   "source": [
    "# Retrieve the Project ID\n",
    "project_id_rd = !gcloud config list project --format \"value(core.project)\"\n",
    "project_id = project_id_rd.fields()[0][0]\n",
    "print (\"Project ID: %s\" % project_id)"
   ]
  },
  {
   "cell_type": "code",
   "execution_count": null,
   "metadata": {
    "collapsed": false
   },
   "outputs": [],
   "source": [
    "# Define the Google Storage bucket\n",
    "bucket = \"gs://%s-%s-ml\" % (project_id, project_name)\n",
    "print (\"Bucket name: %s\" % bucket)"
   ]
  },
  {
   "cell_type": "code",
   "execution_count": null,
   "metadata": {
    "collapsed": false
   },
   "outputs": [],
   "source": [
    "# Define a timestemp, later used for our JOB ID\n",
    "from datetime import datetime\n",
    "timestamp = datetime.now().strftime(\"%Y%m%d_%H%M%S\")\n",
    "print(\"Time stamp: %s\" % timestamp)"
   ]
  },
  {
   "cell_type": "markdown",
   "metadata": {},
   "source": [
    "## Pre-processing"
   ]
  },
  {
   "cell_type": "code",
   "execution_count": null,
   "metadata": {
    "collapsed": false
   },
   "outputs": [],
   "source": [
    "# Execute the pre-processing\n",
    "exec_subprocess(\"chmod a+x ./%s_preproc.sh\" % project_name)\n",
    "exec_subprocess(\"USER=%s DATE=%s ./%s_preproc.sh %s\" % (user_name, timestamp, project_name, bucket))"
   ]
  },
  {
   "cell_type": "markdown",
   "metadata": {},
   "source": [
    "## Training"
   ]
  },
  {
   "cell_type": "code",
   "execution_count": null,
   "metadata": {
    "collapsed": false
   },
   "outputs": [],
   "source": [
    "# Define where the pre-processed data is located\n",
    "gcs_path = \"%s/%s/%s_%s_%s\" % (bucket, user_name, project_name, user_name, timestamp)\n",
    "print (\"Google Storage path: %s\" % gcs_path)"
   ]
  },
  {
   "cell_type": "code",
   "execution_count": null,
   "metadata": {
    "collapsed": false
   },
   "outputs": [],
   "source": [
    "# Define Job ID\n",
    "job_id=(\"%s_%s_%s\" % (project_name, user_name, timestamp)).replace('-', \"_\")\n",
    "print (\"Job ID: %s\" % job_id)"
   ]
  },
  {
   "cell_type": "code",
   "execution_count": null,
   "metadata": {
    "collapsed": false
   },
   "outputs": [],
   "source": [
    "# Run the training script\n",
    "# This script will output summary and model checkpoint information under <gcs_path>/training\n",
    "exec_subprocess(\"chmod a+x ./%s_train.sh\" % project_name)\n",
    "exec_subprocess(\"./%s_train.sh %s %s %s\" % (project_name, bucket, gcs_path, job_id))"
   ]
  },
  {
   "cell_type": "code",
   "execution_count": null,
   "metadata": {
    "collapsed": false
   },
   "outputs": [],
   "source": [
    "# Monitor the training\n",
    "exec_subprocess(\"gcloud ml-engine jobs stream-logs %s\" % (job_id))"
   ]
  },
  {
   "cell_type": "code",
   "execution_count": null,
   "metadata": {
    "collapsed": false
   },
   "outputs": [],
   "source": [
    "# See the results in TensorBoard\n",
    "from google.datalab.ml import TensorBoard\n",
    "pid = TensorBoard.start(\"%s/training\" % gcs_path)"
   ]
  },
  {
   "cell_type": "code",
   "execution_count": null,
   "metadata": {
    "collapsed": false
   },
   "outputs": [],
   "source": [
    "# See the running TensorBoard's\n",
    "TensorBoard.list()"
   ]
  },
  {
   "cell_type": "code",
   "execution_count": null,
   "metadata": {
    "collapsed": true
   },
   "outputs": [],
   "source": [
    "# Execute this cell to stop the previously started TensorBoard process\n",
    "TensorBoard.stop(pid)"
   ]
  },
  {
   "cell_type": "markdown",
   "metadata": {},
   "source": [
    "## Deployment"
   ]
  },
  {
   "cell_type": "code",
   "execution_count": null,
   "metadata": {
    "collapsed": false
   },
   "outputs": [],
   "source": [
    "# Deploy the model\n",
    "exec_subprocess(\"chmod a+x ./model.sh\")\n",
    "exec_subprocess(\"./model.sh %s %s %s\" % (gcs_path, model_version, project_name))"
   ]
  },
  {
   "cell_type": "code",
   "execution_count": null,
   "metadata": {
    "collapsed": false
   },
   "outputs": [],
   "source": [
    "# Get a list of deployed models\n",
    "!gcloud ml-engine models list"
   ]
  },
  {
   "cell_type": "markdown",
   "metadata": {},
   "source": [
    "## Inference"
   ]
  },
  {
   "cell_type": "code",
   "execution_count": null,
   "metadata": {
    "collapsed": false
   },
   "outputs": [],
   "source": [
    "# Run predictions on a number of images\n",
    "!python images_to_json.py -o request.json ./prediction_images/hedgehog.jpg ./prediction_images/puppy1.jpg ./prediction_images/puppy2.jpg\n",
    "exec_subprocess(\"gcloud ml-engine predict --model %s --json-instances request.json \" % (project_name))"
   ]
  },
  {
   "cell_type": "code",
   "execution_count": null,
   "metadata": {
    "codeCollapsed": false,
    "collapsed": false,
    "hiddenCell": false
   },
   "outputs": [],
   "source": [
    "# If needed, run the following to update gcloud\n",
    "#!yes | gcloud components update"
   ]
  }
 ],
 "metadata": {
  "kernelspec": {
   "display_name": "Python 2",
   "language": "python",
   "name": "python2"
  },
  "language_info": {
   "codemirror_mode": {
    "name": "ipython",
    "version": 2
   },
   "file_extension": ".py",
   "mimetype": "text/x-python",
   "name": "python",
   "nbconvert_exporter": "python",
   "pygments_lexer": "ipython2",
   "version": "2.7.9"
  }
 },
 "nbformat": 4,
 "nbformat_minor": 2
}
